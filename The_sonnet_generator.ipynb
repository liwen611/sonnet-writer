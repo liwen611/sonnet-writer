{
 "cells": [
  {
   "cell_type": "markdown",
   "metadata": {},
   "source": [
    "This notebook uses keras to train on the body of sonnets written by Shakespeare. In the end, we will use the model we train to write some sonnet with the help of Shakespeare himself!"
   ]
  },
  {
   "cell_type": "markdown",
   "metadata": {},
   "source": [
    "# Preprocessing"
   ]
  },
  {
   "cell_type": "code",
   "execution_count": 1,
   "metadata": {},
   "outputs": [],
   "source": [
    "# write a small function to read the text file as a giant string\n",
    "def read_file(filepath):\n",
    "    with open(filepath) as file:\n",
    "        str_text = file.read()\n",
    "        \n",
    "        return str_text"
   ]
  },
  {
   "cell_type": "code",
   "execution_count": 3,
   "metadata": {},
   "outputs": [],
   "source": [
    "sonnet = read_file('sonnet.txt')"
   ]
  },
  {
   "cell_type": "code",
   "execution_count": 8,
   "metadata": {},
   "outputs": [
    {
     "data": {
      "text/plain": [
       "98331"
      ]
     },
     "execution_count": 8,
     "metadata": {},
     "output_type": "execute_result"
    }
   ],
   "source": [
    "len(sonnet)"
   ]
  },
  {
   "cell_type": "code",
   "execution_count": 12,
   "metadata": {},
   "outputs": [],
   "source": [
    "#sonnet"
   ]
  },
  {
   "cell_type": "markdown",
   "metadata": {},
   "source": [
    "## Tokenization"
   ]
  },
  {
   "cell_type": "markdown",
   "metadata": {},
   "source": [
    "There are many ways to do this but here we will use spaCy."
   ]
  },
  {
   "cell_type": "code",
   "execution_count": 49,
   "metadata": {},
   "outputs": [
    {
     "name": "stderr",
     "output_type": "stream",
     "text": [
      "Using TensorFlow backend.\n"
     ]
    }
   ],
   "source": [
    "import spacy\n",
    "from keras.preprocessing.text import Tokenizer\n",
    "import numpy as np"
   ]
  },
  {
   "cell_type": "code",
   "execution_count": 7,
   "metadata": {},
   "outputs": [],
   "source": [
    "# disable a few function to make our process faster\n",
    "nlp = spacy.load('en', disable = ['parser', 'tagger', 'ner'])"
   ]
  },
  {
   "cell_type": "code",
   "execution_count": 9,
   "metadata": {},
   "outputs": [],
   "source": [
    "# avoid later complaints \n",
    "nlp.max_length = 98331"
   ]
  },
  {
   "cell_type": "code",
   "execution_count": 43,
   "metadata": {},
   "outputs": [],
   "source": [
    "# avoid NN overfit common punctuations\n",
    "def separate_punc(doc_text):\n",
    "    return [token.text.strip().lower() for token in nlp(doc_text) if token.text not in '1234567890!\"#$%&()*+,-./:;<=>?@[\\\\]^_`{|}~\\t\\n\\n\\n\\s']"
   ]
  },
  {
   "cell_type": "code",
   "execution_count": 62,
   "metadata": {},
   "outputs": [],
   "source": [
    "tokens = separate_punc(sonnet)"
   ]
  },
  {
   "cell_type": "code",
   "execution_count": 63,
   "metadata": {},
   "outputs": [],
   "source": [
    "tokens = list(filter(lambda x: x != '', tokens))"
   ]
  },
  {
   "cell_type": "code",
   "execution_count": 65,
   "metadata": {},
   "outputs": [],
   "source": [
    "# make a text_sequences which is a giant list of all the possible sequences\n",
    "train_len = 10 + 1\n",
    "\n",
    "text_sequences = []\n",
    "\n",
    "for i in range(train_len, len(tokens)):\n",
    "    seq = tokens[i - train_len:i]\n",
    "    text_sequences.append(seq)"
   ]
  },
  {
   "cell_type": "markdown",
   "metadata": {},
   "source": [
    "## Transform the tokens to numerica values"
   ]
  },
  {
   "cell_type": "code",
   "execution_count": 66,
   "metadata": {},
   "outputs": [],
   "source": [
    "#Format this to a numeric system that keras can understand\n",
    "tokenizer = Tokenizer()\n",
    "tokenizer.fit_on_texts(text_sequences)"
   ]
  },
  {
   "cell_type": "code",
   "execution_count": 69,
   "metadata": {},
   "outputs": [],
   "source": [
    "sequences = tokenizer.texts_to_sequences(text_sequences)"
   ]
  },
  {
   "cell_type": "code",
   "execution_count": 77,
   "metadata": {},
   "outputs": [
    {
     "name": "stdout",
     "output_type": "stream",
     "text": [
      "[36, 502, 1349, 180, 232, 633, 8, 1348, 45, 11, 352]\n",
      "['from', 'fairest', 'creatures', 'we', 'desire', 'increase', 'that', 'thereby', 'beauty', \"'s\", 'rose']\n"
     ]
    }
   ],
   "source": [
    "# we have encode the original word sequences to numeric sequences\n",
    "print(sequences[0])\n",
    "print(text_sequences[0])"
   ]
  },
  {
   "cell_type": "code",
   "execution_count": 76,
   "metadata": {},
   "outputs": [
    {
     "name": "stdout",
     "output_type": "stream",
     "text": [
      "36:from\n",
      "502:fairest\n",
      "1349:creatures\n",
      "180:we\n",
      "232:desire\n",
      "633:increase\n",
      "8:that\n",
      "1348:thereby\n",
      "45:beauty\n",
      "11:'s\n",
      "352:rose\n"
     ]
    }
   ],
   "source": [
    "# check to confirm if the id matches the word\n",
    "for i in sequences[0]:\n",
    "    print(f'{i}:{tokenizer.index_word[i]}')"
   ]
  },
  {
   "cell_type": "code",
   "execution_count": 78,
   "metadata": {},
   "outputs": [],
   "source": [
    "vocab_size = len(tokenizer.word_counts)"
   ]
  },
  {
   "cell_type": "code",
   "execution_count": 80,
   "metadata": {},
   "outputs": [
    {
     "data": {
      "text/plain": [
       "3240"
      ]
     },
     "execution_count": 80,
     "metadata": {},
     "output_type": "execute_result"
    }
   ],
   "source": [
    "# this is the number of unique tokens\n",
    "vocab_size"
   ]
  },
  {
   "cell_type": "code",
   "execution_count": 83,
   "metadata": {},
   "outputs": [],
   "source": [
    "# cast the sequences as numpy array \n",
    "sequences = np.array(sequences)"
   ]
  },
  {
   "cell_type": "markdown",
   "metadata": {},
   "source": [
    "# Create the LSTM model"
   ]
  },
  {
   "cell_type": "markdown",
   "metadata": {},
   "source": [
    "We are going to use the begining of the sequences as features and the last word as target we are going to predict."
   ]
  },
  {
   "cell_type": "markdown",
   "metadata": {},
   "source": [
    "## Feature, target extraction"
   ]
  },
  {
   "cell_type": "code",
   "execution_count": 99,
   "metadata": {},
   "outputs": [],
   "source": [
    "from keras.utils import to_categorical \n",
    "from keras.models import Sequential\n",
    "from keras.layers import Dense, LSTM, Embedding"
   ]
  },
  {
   "cell_type": "code",
   "execution_count": 87,
   "metadata": {},
   "outputs": [
    {
     "data": {
      "text/plain": [
       "(18080, 11)"
      ]
     },
     "execution_count": 87,
     "metadata": {},
     "output_type": "execute_result"
    }
   ],
   "source": [
    "sequences.shape"
   ]
  },
  {
   "cell_type": "code",
   "execution_count": 88,
   "metadata": {},
   "outputs": [],
   "source": [
    "# grabbing the sequences except for the last element of each sequence\n",
    "X = sequences[:, :-1]\n",
    "y = sequences[:, -1]"
   ]
  },
  {
   "cell_type": "code",
   "execution_count": 90,
   "metadata": {},
   "outputs": [],
   "source": [
    "# one extra space to hold 0\n",
    "y = to_categorical(y, num_classes = vocab_size + 1)"
   ]
  },
  {
   "cell_type": "code",
   "execution_count": 129,
   "metadata": {},
   "outputs": [
    {
     "data": {
      "text/plain": [
       "((18080, 10), (18080, 3241))"
      ]
     },
     "execution_count": 129,
     "metadata": {},
     "output_type": "execute_result"
    }
   ],
   "source": [
    "X.shape, y.shape"
   ]
  },
  {
   "cell_type": "markdown",
   "metadata": {},
   "source": [
    "## Build the model"
   ]
  },
  {
   "cell_type": "code",
   "execution_count": 118,
   "metadata": {},
   "outputs": [],
   "source": [
    "# the seq_len is the length of a general sentence\n",
    "def create_model(vocab_size, seq_len):\n",
    "    model = Sequential()\n",
    "    model.add(Embedding(vocab_size, seq_len, input_length = seq_len))\n",
    "    model.add(LSTM(50, return_sequences = True))\n",
    "    model.add(LSTM(50))\n",
    "    model.add(Dense(50, activation = 'relu'))\n",
    "    model.add(Dense(vocab_size, activation = 'softmax'))\n",
    "    model.compile(loss = 'categorical_crossentropy', optimizer = 'adam', metrics = ['accuracy'])\n",
    "    print(model.summary())\n",
    "    return model"
   ]
  },
  {
   "cell_type": "code",
   "execution_count": 126,
   "metadata": {},
   "outputs": [
    {
     "name": "stdout",
     "output_type": "stream",
     "text": [
      "Model: \"sequential_4\"\n",
      "_________________________________________________________________\n",
      "Layer (type)                 Output Shape              Param #   \n",
      "=================================================================\n",
      "embedding_3 (Embedding)      (None, 10, 10)            32410     \n",
      "_________________________________________________________________\n",
      "lstm_5 (LSTM)                (None, 10, 50)            12200     \n",
      "_________________________________________________________________\n",
      "lstm_6 (LSTM)                (None, 50)                20200     \n",
      "_________________________________________________________________\n",
      "dense_5 (Dense)              (None, 50)                2550      \n",
      "_________________________________________________________________\n",
      "dense_6 (Dense)              (None, 3241)              165291    \n",
      "=================================================================\n",
      "Total params: 232,651\n",
      "Trainable params: 232,651\n",
      "Non-trainable params: 0\n",
      "_________________________________________________________________\n",
      "None\n"
     ]
    }
   ],
   "source": [
    "# the length of the sentence is no more than 10 words\n",
    "model = create_model(vocab_size = vocab_size + 1, seq_len = 10)"
   ]
  },
  {
   "cell_type": "markdown",
   "metadata": {},
   "source": [
    "## Fit model"
   ]
  },
  {
   "cell_type": "code",
   "execution_count": 127,
   "metadata": {},
   "outputs": [],
   "source": [
    "from pickle import dump, load"
   ]
  },
  {
   "cell_type": "code",
   "execution_count": 128,
   "metadata": {},
   "outputs": [
    {
     "name": "stderr",
     "output_type": "stream",
     "text": [
      "/Users/liwenhuang/opt/anaconda3/lib/python3.7/site-packages/tensorflow_core/python/framework/indexed_slices.py:433: UserWarning: Converting sparse IndexedSlices to a dense Tensor of unknown shape. This may consume a large amount of memory.\n",
      "  \"Converting sparse IndexedSlices to a dense Tensor of unknown shape. \"\n"
     ]
    },
    {
     "name": "stdout",
     "output_type": "stream",
     "text": [
      "Epoch 1/200\n",
      "18080/18080 [==============================] - 3s 148us/step - loss: 6.9654 - accuracy: 0.0220\n",
      "Epoch 2/200\n",
      "18080/18080 [==============================] - 2s 108us/step - loss: 6.4659 - accuracy: 0.0263\n",
      "Epoch 3/200\n",
      "18080/18080 [==============================] - 2s 106us/step - loss: 6.4433 - accuracy: 0.0259\n",
      "Epoch 4/200\n",
      "18080/18080 [==============================] - 2s 105us/step - loss: 6.4281 - accuracy: 0.0264\n",
      "Epoch 5/200\n",
      "18080/18080 [==============================] - 2s 106us/step - loss: 6.4094 - accuracy: 0.0258\n",
      "Epoch 6/200\n",
      "18080/18080 [==============================] - 2s 105us/step - loss: 6.3927 - accuracy: 0.0261\n",
      "Epoch 7/200\n",
      "18080/18080 [==============================] - 2s 107us/step - loss: 6.3717 - accuracy: 0.0262\n",
      "Epoch 8/200\n",
      "18080/18080 [==============================] - 2s 107us/step - loss: 6.3377 - accuracy: 0.0254\n",
      "Epoch 9/200\n",
      "18080/18080 [==============================] - 2s 106us/step - loss: 6.2792 - accuracy: 0.0259\n",
      "Epoch 10/200\n",
      "18080/18080 [==============================] - 2s 107us/step - loss: 6.2118 - accuracy: 0.0279\n",
      "Epoch 11/200\n",
      "18080/18080 [==============================] - 2s 109us/step - loss: 6.1360 - accuracy: 0.0303\n",
      "Epoch 12/200\n",
      "18080/18080 [==============================] - 2s 109us/step - loss: 6.0476 - accuracy: 0.0336\n",
      "Epoch 13/200\n",
      "18080/18080 [==============================] - 2s 108us/step - loss: 5.9559 - accuracy: 0.0358\n",
      "Epoch 14/200\n",
      "18080/18080 [==============================] - 2s 109us/step - loss: 5.8847 - accuracy: 0.0373\n",
      "Epoch 15/200\n",
      "18080/18080 [==============================] - 2s 109us/step - loss: 5.8251 - accuracy: 0.0389\n",
      "Epoch 16/200\n",
      "18080/18080 [==============================] - 2s 109us/step - loss: 5.7703 - accuracy: 0.0397\n",
      "Epoch 17/200\n",
      "18080/18080 [==============================] - 2s 112us/step - loss: 5.7261 - accuracy: 0.0406\n",
      "Epoch 18/200\n",
      "18080/18080 [==============================] - 2s 114us/step - loss: 5.6797 - accuracy: 0.0418\n",
      "Epoch 19/200\n",
      "18080/18080 [==============================] - 2s 113us/step - loss: 5.6287 - accuracy: 0.0429\n",
      "Epoch 20/200\n",
      "18080/18080 [==============================] - 2s 112us/step - loss: 5.5882 - accuracy: 0.0419\n",
      "Epoch 21/200\n",
      "18080/18080 [==============================] - 2s 113us/step - loss: 5.5431 - accuracy: 0.0432\n",
      "Epoch 22/200\n",
      "18080/18080 [==============================] - 2s 114us/step - loss: 5.5029 - accuracy: 0.0436\n",
      "Epoch 23/200\n",
      "18080/18080 [==============================] - 2s 113us/step - loss: 5.4665 - accuracy: 0.0445\n",
      "Epoch 24/200\n",
      "18080/18080 [==============================] - 2s 112us/step - loss: 5.4290 - accuracy: 0.0451\n",
      "Epoch 25/200\n",
      "18080/18080 [==============================] - 2s 115us/step - loss: 5.3919 - accuracy: 0.0460\n",
      "Epoch 26/200\n",
      "18080/18080 [==============================] - 2s 117us/step - loss: 5.3502 - accuracy: 0.0455\n",
      "Epoch 27/200\n",
      "18080/18080 [==============================] - 2s 117us/step - loss: 5.3149 - accuracy: 0.0458\n",
      "Epoch 28/200\n",
      "18080/18080 [==============================] - 2s 117us/step - loss: 5.2806 - accuracy: 0.0470\n",
      "Epoch 29/200\n",
      "18080/18080 [==============================] - 2s 120us/step - loss: 5.2393 - accuracy: 0.0486\n",
      "Epoch 30/200\n",
      "18080/18080 [==============================] - 2s 117us/step - loss: 5.2111 - accuracy: 0.0499\n",
      "Epoch 31/200\n",
      "18080/18080 [==============================] - 2s 121us/step - loss: 5.1751 - accuracy: 0.0496\n",
      "Epoch 32/200\n",
      "18080/18080 [==============================] - 2s 137us/step - loss: 5.1399 - accuracy: 0.0499\n",
      "Epoch 33/200\n",
      "18080/18080 [==============================] - 3s 148us/step - loss: 5.1043 - accuracy: 0.0518\n",
      "Epoch 34/200\n",
      "18080/18080 [==============================] - 3s 154us/step - loss: 5.0677 - accuracy: 0.0526\n",
      "Epoch 35/200\n",
      "18080/18080 [==============================] - 3s 161us/step - loss: 5.0358 - accuracy: 0.0532\n",
      "Epoch 36/200\n",
      "18080/18080 [==============================] - 3s 172us/step - loss: 4.9947 - accuracy: 0.0544\n",
      "Epoch 37/200\n",
      "18080/18080 [==============================] - 3s 181us/step - loss: 4.9613 - accuracy: 0.0568\n",
      "Epoch 38/200\n",
      "18080/18080 [==============================] - 3s 190us/step - loss: 4.9308 - accuracy: 0.0575\n",
      "Epoch 39/200\n",
      "18080/18080 [==============================] - 4s 208us/step - loss: 4.8881 - accuracy: 0.0600\n",
      "Epoch 40/200\n",
      "18080/18080 [==============================] - 4s 205us/step - loss: 4.8554 - accuracy: 0.0619\n",
      "Epoch 41/200\n",
      "18080/18080 [==============================] - 4s 217us/step - loss: 4.8194 - accuracy: 0.0639\n",
      "Epoch 42/200\n",
      "18080/18080 [==============================] - 4s 215us/step - loss: 4.7964 - accuracy: 0.0650\n",
      "Epoch 43/200\n",
      "18080/18080 [==============================] - 4s 211us/step - loss: 4.7582 - accuracy: 0.0664\n",
      "Epoch 44/200\n",
      "18080/18080 [==============================] - 4s 205us/step - loss: 4.7195 - accuracy: 0.0671\n",
      "Epoch 45/200\n",
      "18080/18080 [==============================] - 3s 185us/step - loss: 4.6899 - accuracy: 0.0710\n",
      "Epoch 46/200\n",
      "18080/18080 [==============================] - 3s 187us/step - loss: 4.6550 - accuracy: 0.0697\n",
      "Epoch 47/200\n",
      "18080/18080 [==============================] - 3s 180us/step - loss: 4.6217 - accuracy: 0.0733\n",
      "Epoch 48/200\n",
      "18080/18080 [==============================] - 3s 164us/step - loss: 4.5962 - accuracy: 0.0727\n",
      "Epoch 49/200\n",
      "18080/18080 [==============================] - 3s 166us/step - loss: 4.5531 - accuracy: 0.0757\n",
      "Epoch 50/200\n",
      "18080/18080 [==============================] - 3s 162us/step - loss: 4.5166 - accuracy: 0.0791\n",
      "Epoch 51/200\n",
      "18080/18080 [==============================] - 3s 151us/step - loss: 4.4833 - accuracy: 0.0812\n",
      "Epoch 52/200\n",
      "18080/18080 [==============================] - 3s 158us/step - loss: 4.4464 - accuracy: 0.0821\n",
      "Epoch 53/200\n",
      "18080/18080 [==============================] - 3s 148us/step - loss: 4.4187 - accuracy: 0.0858\n",
      "Epoch 54/200\n",
      "18080/18080 [==============================] - 3s 140us/step - loss: 4.3877 - accuracy: 0.0883\n",
      "Epoch 55/200\n",
      "18080/18080 [==============================] - 3s 140us/step - loss: 4.3512 - accuracy: 0.0886\n",
      "Epoch 56/200\n",
      "18080/18080 [==============================] - 3s 142us/step - loss: 4.3180 - accuracy: 0.0957\n",
      "Epoch 57/200\n",
      "18080/18080 [==============================] - 3s 142us/step - loss: 4.3080 - accuracy: 0.0963\n",
      "Epoch 58/200\n",
      "18080/18080 [==============================] - 3s 142us/step - loss: 4.2788 - accuracy: 0.0988\n",
      "Epoch 59/200\n",
      "18080/18080 [==============================] - 2s 133us/step - loss: 4.2345 - accuracy: 0.1036\n",
      "Epoch 60/200\n",
      "18080/18080 [==============================] - 2s 134us/step - loss: 4.2092 - accuracy: 0.1049\n",
      "Epoch 61/200\n",
      "18080/18080 [==============================] - 2s 129us/step - loss: 4.1768 - accuracy: 0.1091\n",
      "Epoch 62/200\n",
      "18080/18080 [==============================] - 2s 129us/step - loss: 4.1451 - accuracy: 0.1128\n",
      "Epoch 63/200\n",
      "18080/18080 [==============================] - 2s 129us/step - loss: 4.1253 - accuracy: 0.1198\n",
      "Epoch 64/200\n",
      "18080/18080 [==============================] - 2s 129us/step - loss: 4.0973 - accuracy: 0.1218\n",
      "Epoch 65/200\n",
      "18080/18080 [==============================] - 2s 131us/step - loss: 4.0772 - accuracy: 0.1249\n",
      "Epoch 66/200\n",
      "18080/18080 [==============================] - 2s 130us/step - loss: 4.0417 - accuracy: 0.1304\n",
      "Epoch 67/200\n",
      "18080/18080 [==============================] - 2s 136us/step - loss: 4.0274 - accuracy: 0.1325\n",
      "Epoch 68/200\n",
      "18080/18080 [==============================] - 2s 134us/step - loss: 3.9967 - accuracy: 0.1341\n",
      "Epoch 69/200\n",
      "18080/18080 [==============================] - 2s 133us/step - loss: 3.9735 - accuracy: 0.1382\n",
      "Epoch 70/200\n",
      "18080/18080 [==============================] - 2s 138us/step - loss: 3.9427 - accuracy: 0.1451\n",
      "Epoch 71/200\n",
      "18080/18080 [==============================] - 3s 141us/step - loss: 3.9239 - accuracy: 0.1446\n",
      "Epoch 72/200\n",
      "18080/18080 [==============================] - 3s 144us/step - loss: 3.9027 - accuracy: 0.1539\n",
      "Epoch 73/200\n",
      "18080/18080 [==============================] - 3s 148us/step - loss: 3.8786 - accuracy: 0.1523\n",
      "Epoch 74/200\n",
      "18080/18080 [==============================] - 3s 149us/step - loss: 3.8553 - accuracy: 0.1566\n",
      "Epoch 75/200\n",
      "18080/18080 [==============================] - 3s 149us/step - loss: 3.8353 - accuracy: 0.1601\n",
      "Epoch 76/200\n",
      "18080/18080 [==============================] - 3s 160us/step - loss: 3.8106 - accuracy: 0.1652\n"
     ]
    },
    {
     "name": "stdout",
     "output_type": "stream",
     "text": [
      "Epoch 77/200\n",
      "18080/18080 [==============================] - 3s 156us/step - loss: 3.7965 - accuracy: 0.1654\n",
      "Epoch 78/200\n",
      "18080/18080 [==============================] - 3s 152us/step - loss: 3.7772 - accuracy: 0.1678\n",
      "Epoch 79/200\n",
      "18080/18080 [==============================] - 3s 151us/step - loss: 3.7352 - accuracy: 0.1787\n",
      "Epoch 80/200\n",
      "18080/18080 [==============================] - 3s 153us/step - loss: 3.7199 - accuracy: 0.1769\n",
      "Epoch 81/200\n",
      "18080/18080 [==============================] - 3s 152us/step - loss: 3.7028 - accuracy: 0.1870\n",
      "Epoch 82/200\n",
      "18080/18080 [==============================] - 3s 150us/step - loss: 3.6757 - accuracy: 0.1855\n",
      "Epoch 83/200\n",
      "18080/18080 [==============================] - 3s 148us/step - loss: 3.6719 - accuracy: 0.1871\n",
      "Epoch 84/200\n",
      "18080/18080 [==============================] - 3s 143us/step - loss: 3.6462 - accuracy: 0.1923\n",
      "Epoch 85/200\n",
      "18080/18080 [==============================] - 3s 140us/step - loss: 3.6318 - accuracy: 0.1918\n",
      "Epoch 86/200\n",
      "18080/18080 [==============================] - 3s 140us/step - loss: 3.6016 - accuracy: 0.1964\n",
      "Epoch 87/200\n",
      "18080/18080 [==============================] - 2s 137us/step - loss: 3.5969 - accuracy: 0.1988\n",
      "Epoch 88/200\n",
      "18080/18080 [==============================] - 2s 137us/step - loss: 3.5612 - accuracy: 0.2041\n",
      "Epoch 89/200\n",
      "18080/18080 [==============================] - 3s 140us/step - loss: 3.5519 - accuracy: 0.2051\n",
      "Epoch 90/200\n",
      "18080/18080 [==============================] - 3s 140us/step - loss: 3.5341 - accuracy: 0.2093\n",
      "Epoch 91/200\n",
      "18080/18080 [==============================] - 3s 142us/step - loss: 3.5272 - accuracy: 0.2064\n",
      "Epoch 92/200\n",
      "18080/18080 [==============================] - 3s 144us/step - loss: 3.5158 - accuracy: 0.2114\n",
      "Epoch 93/200\n",
      "18080/18080 [==============================] - 3s 143us/step - loss: 3.4891 - accuracy: 0.2177\n",
      "Epoch 94/200\n",
      "18080/18080 [==============================] - 3s 145us/step - loss: 3.4644 - accuracy: 0.2207\n",
      "Epoch 95/200\n",
      "18080/18080 [==============================] - 3s 143us/step - loss: 3.4583 - accuracy: 0.2206\n",
      "Epoch 96/200\n",
      "18080/18080 [==============================] - 3s 144us/step - loss: 3.4397 - accuracy: 0.2205\n",
      "Epoch 97/200\n",
      "18080/18080 [==============================] - 3s 152us/step - loss: 3.4281 - accuracy: 0.2232\n",
      "Epoch 98/200\n",
      "18080/18080 [==============================] - 3s 150us/step - loss: 3.4085 - accuracy: 0.2284\n",
      "Epoch 99/200\n",
      "18080/18080 [==============================] - 3s 144us/step - loss: 3.3875 - accuracy: 0.2331\n",
      "Epoch 100/200\n",
      "18080/18080 [==============================] - 3s 147us/step - loss: 3.3711 - accuracy: 0.2365\n",
      "Epoch 101/200\n",
      "18080/18080 [==============================] - 3s 147us/step - loss: 3.3598 - accuracy: 0.2357\n",
      "Epoch 102/200\n",
      "18080/18080 [==============================] - 3s 148us/step - loss: 3.3471 - accuracy: 0.2416\n",
      "Epoch 103/200\n",
      "18080/18080 [==============================] - 3s 147us/step - loss: 3.3524 - accuracy: 0.2353\n",
      "Epoch 104/200\n",
      "18080/18080 [==============================] - 2s 133us/step - loss: 3.3147 - accuracy: 0.2421\n",
      "Epoch 105/200\n",
      "18080/18080 [==============================] - 2s 134us/step - loss: 3.2916 - accuracy: 0.2473\n",
      "Epoch 106/200\n",
      "18080/18080 [==============================] - 3s 147us/step - loss: 3.2983 - accuracy: 0.2474\n",
      "Epoch 107/200\n",
      "18080/18080 [==============================] - 3s 146us/step - loss: 3.2842 - accuracy: 0.2475\n",
      "Epoch 108/200\n",
      "18080/18080 [==============================] - 3s 146us/step - loss: 3.2401 - accuracy: 0.2588\n",
      "Epoch 109/200\n",
      "18080/18080 [==============================] - 3s 156us/step - loss: 3.2290 - accuracy: 0.2577\n",
      "Epoch 110/200\n",
      "18080/18080 [==============================] - 3s 143us/step - loss: 3.2135 - accuracy: 0.2658\n",
      "Epoch 111/200\n",
      "18080/18080 [==============================] - 3s 143us/step - loss: 3.2056 - accuracy: 0.2622\n",
      "Epoch 112/200\n",
      "18080/18080 [==============================] - 3s 149us/step - loss: 3.1984 - accuracy: 0.2648\n",
      "Epoch 113/200\n",
      "18080/18080 [==============================] - 3s 148us/step - loss: 3.1843 - accuracy: 0.2662\n",
      "Epoch 114/200\n",
      "18080/18080 [==============================] - 3s 149us/step - loss: 3.1668 - accuracy: 0.2711\n",
      "Epoch 115/200\n",
      "18080/18080 [==============================] - 3s 148us/step - loss: 3.1586 - accuracy: 0.2734\n",
      "Epoch 116/200\n",
      "18080/18080 [==============================] - 3s 146us/step - loss: 3.1430 - accuracy: 0.2717\n",
      "Epoch 117/200\n",
      "18080/18080 [==============================] - 3s 141us/step - loss: 3.1464 - accuracy: 0.2724\n",
      "Epoch 118/200\n",
      "18080/18080 [==============================] - 3s 142us/step - loss: 3.1221 - accuracy: 0.2767\n",
      "Epoch 119/200\n",
      "18080/18080 [==============================] - 3s 142us/step - loss: 3.1081 - accuracy: 0.2811\n",
      "Epoch 120/200\n",
      "18080/18080 [==============================] - 3s 142us/step - loss: 3.0981 - accuracy: 0.2852\n",
      "Epoch 121/200\n",
      "18080/18080 [==============================] - 3s 152us/step - loss: 3.0852 - accuracy: 0.2833\n",
      "Epoch 122/200\n",
      "18080/18080 [==============================] - 3s 159us/step - loss: 3.0775 - accuracy: 0.2855\n",
      "Epoch 123/200\n",
      "18080/18080 [==============================] - 3s 154us/step - loss: 3.0721 - accuracy: 0.2858\n",
      "Epoch 124/200\n",
      "18080/18080 [==============================] - 3s 154us/step - loss: 3.0313 - accuracy: 0.2967\n",
      "Epoch 125/200\n",
      "18080/18080 [==============================] - 3s 152us/step - loss: 3.0125 - accuracy: 0.2963\n",
      "Epoch 126/200\n",
      "18080/18080 [==============================] - 3s 153us/step - loss: 3.0078 - accuracy: 0.2970\n",
      "Epoch 127/200\n",
      "18080/18080 [==============================] - 3s 145us/step - loss: 3.0073 - accuracy: 0.3013\n",
      "Epoch 128/200\n",
      "18080/18080 [==============================] - 3s 139us/step - loss: 3.0149 - accuracy: 0.2958\n",
      "Epoch 129/200\n",
      "18080/18080 [==============================] - 3s 139us/step - loss: 3.0281 - accuracy: 0.2912\n",
      "Epoch 130/200\n",
      "18080/18080 [==============================] - 3s 140us/step - loss: 2.9833 - accuracy: 0.3012\n",
      "Epoch 131/200\n",
      "18080/18080 [==============================] - 3s 142us/step - loss: 2.9597 - accuracy: 0.3056\n",
      "Epoch 132/200\n",
      "18080/18080 [==============================] - 3s 139us/step - loss: 2.9518 - accuracy: 0.3055\n",
      "Epoch 133/200\n",
      "18080/18080 [==============================] - 3s 140us/step - loss: 2.9598 - accuracy: 0.3033\n",
      "Epoch 134/200\n",
      "18080/18080 [==============================] - 3s 140us/step - loss: 2.9266 - accuracy: 0.3136\n",
      "Epoch 135/200\n",
      "18080/18080 [==============================] - 2s 138us/step - loss: 2.9283 - accuracy: 0.3126\n",
      "Epoch 136/200\n",
      "18080/18080 [==============================] - 3s 139us/step - loss: 2.9108 - accuracy: 0.3154\n",
      "Epoch 137/200\n",
      "18080/18080 [==============================] - 3s 142us/step - loss: 2.9010 - accuracy: 0.3184\n",
      "Epoch 138/200\n",
      "18080/18080 [==============================] - 3s 140us/step - loss: 2.8813 - accuracy: 0.3223\n",
      "Epoch 139/200\n",
      "18080/18080 [==============================] - 2s 135us/step - loss: 2.8606 - accuracy: 0.3249\n",
      "Epoch 140/200\n",
      "18080/18080 [==============================] - 2s 134us/step - loss: 2.8659 - accuracy: 0.3253\n",
      "Epoch 141/200\n",
      "18080/18080 [==============================] - 2s 134us/step - loss: 2.8660 - accuracy: 0.3235\n",
      "Epoch 142/200\n",
      "18080/18080 [==============================] - 2s 135us/step - loss: 2.8708 - accuracy: 0.3239\n",
      "Epoch 143/200\n",
      "18080/18080 [==============================] - 3s 139us/step - loss: 2.8510 - accuracy: 0.3258\n",
      "Epoch 144/200\n",
      "18080/18080 [==============================] - 3s 144us/step - loss: 2.8258 - accuracy: 0.3330\n",
      "Epoch 145/200\n",
      "18080/18080 [==============================] - 3s 145us/step - loss: 2.8032 - accuracy: 0.3352\n",
      "Epoch 146/200\n",
      "18080/18080 [==============================] - 3s 148us/step - loss: 2.7865 - accuracy: 0.3393\n",
      "Epoch 147/200\n",
      "18080/18080 [==============================] - 3s 152us/step - loss: 2.7911 - accuracy: 0.3424\n",
      "Epoch 148/200\n",
      "18080/18080 [==============================] - 3s 151us/step - loss: 2.7812 - accuracy: 0.3411\n",
      "Epoch 149/200\n",
      "18080/18080 [==============================] - 3s 154us/step - loss: 2.7624 - accuracy: 0.3418\n",
      "Epoch 150/200\n",
      "18080/18080 [==============================] - 3s 158us/step - loss: 2.7570 - accuracy: 0.3432\n",
      "Epoch 151/200\n",
      "18080/18080 [==============================] - 3s 160us/step - loss: 2.7616 - accuracy: 0.3426\n",
      "Epoch 152/200\n",
      "18080/18080 [==============================] - 3s 164us/step - loss: 2.7367 - accuracy: 0.3470\n",
      "Epoch 153/200\n",
      "18080/18080 [==============================] - 3s 163us/step - loss: 2.7313 - accuracy: 0.3499\n",
      "Epoch 154/200\n",
      "18080/18080 [==============================] - 3s 163us/step - loss: 2.7319 - accuracy: 0.3484\n",
      "Epoch 155/200\n",
      "18080/18080 [==============================] - 3s 160us/step - loss: 2.7392 - accuracy: 0.3447\n",
      "Epoch 156/200\n",
      "18080/18080 [==============================] - 3s 161us/step - loss: 2.7310 - accuracy: 0.3471\n",
      "Epoch 157/200\n",
      "18080/18080 [==============================] - 3s 159us/step - loss: 2.7037 - accuracy: 0.3554\n",
      "Epoch 158/200\n",
      "18080/18080 [==============================] - 3s 161us/step - loss: 2.7090 - accuracy: 0.3513\n",
      "Epoch 159/200\n",
      "18080/18080 [==============================] - 3s 156us/step - loss: 2.6812 - accuracy: 0.3556\n",
      "Epoch 160/200\n",
      "18080/18080 [==============================] - 3s 163us/step - loss: 2.6668 - accuracy: 0.3567\n",
      "Epoch 161/200\n",
      "18080/18080 [==============================] - 3s 157us/step - loss: 2.6496 - accuracy: 0.3632\n",
      "Epoch 162/200\n",
      "18080/18080 [==============================] - 3s 153us/step - loss: 2.6510 - accuracy: 0.3636\n",
      "Epoch 163/200\n",
      "18080/18080 [==============================] - 3s 149us/step - loss: 2.6555 - accuracy: 0.3638\n",
      "Epoch 164/200\n",
      "18080/18080 [==============================] - 3s 143us/step - loss: 2.6426 - accuracy: 0.3637\n",
      "Epoch 165/200\n",
      "18080/18080 [==============================] - 2s 137us/step - loss: 2.6235 - accuracy: 0.3685\n",
      "Epoch 166/200\n",
      "18080/18080 [==============================] - 3s 141us/step - loss: 2.6208 - accuracy: 0.3728\n",
      "Epoch 167/200\n",
      "18080/18080 [==============================] - 3s 140us/step - loss: 2.6091 - accuracy: 0.3686\n",
      "Epoch 168/200\n",
      "18080/18080 [==============================] - 3s 141us/step - loss: 2.6014 - accuracy: 0.3761\n",
      "Epoch 169/200\n",
      "18080/18080 [==============================] - 3s 142us/step - loss: 2.5635 - accuracy: 0.3821\n",
      "Epoch 170/200\n",
      "18080/18080 [==============================] - 3s 144us/step - loss: 2.5787 - accuracy: 0.3796\n",
      "Epoch 171/200\n",
      "18080/18080 [==============================] - 3s 143us/step - loss: 2.5661 - accuracy: 0.3791\n",
      "Epoch 172/200\n",
      "18080/18080 [==============================] - 3s 143us/step - loss: 2.5599 - accuracy: 0.3816\n",
      "Epoch 173/200\n",
      "18080/18080 [==============================] - 3s 145us/step - loss: 2.5635 - accuracy: 0.3795\n",
      "Epoch 174/200\n",
      "18080/18080 [==============================] - 3s 149us/step - loss: 2.5614 - accuracy: 0.3804\n",
      "Epoch 175/200\n",
      "18080/18080 [==============================] - 3s 145us/step - loss: 2.5374 - accuracy: 0.3848\n",
      "Epoch 176/200\n",
      "18080/18080 [==============================] - 3s 145us/step - loss: 2.5380 - accuracy: 0.3881\n",
      "Epoch 177/200\n",
      "18080/18080 [==============================] - 3s 146us/step - loss: 2.5299 - accuracy: 0.3851\n",
      "Epoch 178/200\n",
      "18080/18080 [==============================] - 3s 146us/step - loss: 2.5351 - accuracy: 0.3815\n",
      "Epoch 179/200\n",
      "18080/18080 [==============================] - 3s 147us/step - loss: 2.5189 - accuracy: 0.3859\n",
      "Epoch 180/200\n",
      "18080/18080 [==============================] - 3s 142us/step - loss: 2.4934 - accuracy: 0.3938\n",
      "Epoch 181/200\n",
      "18080/18080 [==============================] - 2s 135us/step - loss: 2.4892 - accuracy: 0.3946\n",
      "Epoch 182/200\n",
      "18080/18080 [==============================] - 3s 139us/step - loss: 2.4746 - accuracy: 0.3974\n",
      "Epoch 183/200\n",
      "18080/18080 [==============================] - 3s 146us/step - loss: 2.4682 - accuracy: 0.4013\n",
      "Epoch 184/200\n",
      "18080/18080 [==============================] - 3s 145us/step - loss: 2.4523 - accuracy: 0.4038\n",
      "Epoch 185/200\n",
      "18080/18080 [==============================] - 3s 145us/step - loss: 2.4424 - accuracy: 0.4076\n",
      "Epoch 186/200\n",
      "18080/18080 [==============================] - 3s 148us/step - loss: 2.4546 - accuracy: 0.4029\n",
      "Epoch 187/200\n",
      "18080/18080 [==============================] - 3s 148us/step - loss: 2.4581 - accuracy: 0.3992\n",
      "Epoch 188/200\n",
      "18080/18080 [==============================] - 3s 147us/step - loss: 2.4295 - accuracy: 0.4078\n",
      "Epoch 189/200\n",
      "18080/18080 [==============================] - 3s 147us/step - loss: 2.4490 - accuracy: 0.4002\n",
      "Epoch 190/200\n",
      "18080/18080 [==============================] - 3s 149us/step - loss: 2.4225 - accuracy: 0.4059\n",
      "Epoch 191/200\n",
      "18080/18080 [==============================] - 3s 148us/step - loss: 2.4188 - accuracy: 0.4074\n",
      "Epoch 192/200\n",
      "18080/18080 [==============================] - 3s 146us/step - loss: 2.3998 - accuracy: 0.4108\n",
      "Epoch 193/200\n",
      "18080/18080 [==============================] - 3s 139us/step - loss: 2.4000 - accuracy: 0.4106\n",
      "Epoch 194/200\n",
      "18080/18080 [==============================] - 3s 146us/step - loss: 2.3856 - accuracy: 0.4168\n",
      "Epoch 195/200\n",
      "18080/18080 [==============================] - 3s 151us/step - loss: 2.3757 - accuracy: 0.4175\n",
      "Epoch 196/200\n",
      "18080/18080 [==============================] - 3s 155us/step - loss: 2.3514 - accuracy: 0.4264\n",
      "Epoch 197/200\n",
      "18080/18080 [==============================] - 3s 153us/step - loss: 2.3358 - accuracy: 0.4265\n",
      "Epoch 198/200\n",
      "18080/18080 [==============================] - 3s 157us/step - loss: 2.3399 - accuracy: 0.4236\n",
      "Epoch 199/200\n",
      "18080/18080 [==============================] - 3s 157us/step - loss: 2.3419 - accuracy: 0.4262\n",
      "Epoch 200/200\n",
      "18080/18080 [==============================] - 3s 156us/step - loss: 2.3343 - accuracy: 0.4271\n"
     ]
    },
    {
     "data": {
      "text/plain": [
       "<keras.callbacks.callbacks.History at 0x7f8988bd5390>"
      ]
     },
     "execution_count": 128,
     "metadata": {},
     "output_type": "execute_result"
    }
   ],
   "source": [
    "model.fit(X, y, batch_size = 128, epochs = 200, verbose = 2)"
   ]
  },
  {
   "cell_type": "code",
   "execution_count": 130,
   "metadata": {},
   "outputs": [],
   "source": [
    "model.save('sonnet_writer_v1.h5')"
   ]
  },
  {
   "cell_type": "code",
   "execution_count": 131,
   "metadata": {},
   "outputs": [],
   "source": [
    "# save the tokenizer as well\n",
    "dump(tokenizer, open('sonnet_tokenizer', 'wb'))"
   ]
  },
  {
   "cell_type": "markdown",
   "metadata": {},
   "source": [
    "# Ready to write some sonnets!"
   ]
  },
  {
   "cell_type": "code",
   "execution_count": 136,
   "metadata": {},
   "outputs": [],
   "source": [
    "from keras.preprocessing.sequence import pad_sequences"
   ]
  },
  {
   "cell_type": "code",
   "execution_count": 165,
   "metadata": {},
   "outputs": [],
   "source": [
    "def generate_text(model, tokenizer, seq_len, seed_text, num_gen_words):\n",
    "    output_text = []\n",
    "    \n",
    "    input_text = seed_text\n",
    "    for i in range(num_gen_words):\n",
    "        encoded_text = tokenizer.texts_to_sequences([input_text])[0]\n",
    "        pad_encoded = pad_sequences([encoded_text], maxlen = seq_len, truncating = 'pre')\n",
    "        pred_word_idx = model.predict_classes(pad_encoded, verbose = 0)[0]\n",
    "        pred_word = tokenizer.index_word[pred_word_idx]\n",
    "        input_text += \" \" + pred_word\n",
    "        output_text.append(pred_word)\n",
    "        \n",
    "    return ' '.join(output_text)"
   ]
  },
  {
   "cell_type": "code",
   "execution_count": 198,
   "metadata": {},
   "outputs": [
    {
     "data": {
      "text/plain": [
       "\"a number imperfect all fiend o thought 's verse\""
      ]
     },
     "execution_count": 198,
     "metadata": {},
     "output_type": "execute_result"
    }
   ],
   "source": [
    "seed_text = 'Wine'\n",
    "need_len = 10 - len(seed_text.split())\n",
    "generate_text(model, tokenizer, 10, seed_text, need_len)"
   ]
  },
  {
   "cell_type": "markdown",
   "metadata": {},
   "source": [
    "With my AI Shakespeare, I have produced the following sonnet:"
   ]
  },
  {
   "cell_type": "markdown",
   "metadata": {},
   "source": [
    "\n",
    "I shall not tell thee your eyes or thence, \n",
    "\n",
    "thou are mischievous years pass o but i then say.\n",
    "\n",
    "Give me a pen moon her reasons 's civil, \n",
    "\n",
    "Those that money cant buy a all brow.\n",
    "\n",
    "Why is the god damn bird still singing censures retention!\n",
    "\n",
    "What shall I say no yellow and privilege in I!\n",
    "\n",
    "My muse enlighten me,  thorns but fears came silvered his!\n",
    "\n",
    "There I lie and die a better excuse so invent, \n",
    "\n",
    "Come as dust and go as her winters placed after. \n",
    "\n",
    "Wine a number imperfect all fiend o thought 's verse."
   ]
  },
  {
   "cell_type": "code",
   "execution_count": null,
   "metadata": {},
   "outputs": [],
   "source": []
  }
 ],
 "metadata": {
  "kernelspec": {
   "display_name": "Python 3",
   "language": "python",
   "name": "python3"
  },
  "language_info": {
   "codemirror_mode": {
    "name": "ipython",
    "version": 3
   },
   "file_extension": ".py",
   "mimetype": "text/x-python",
   "name": "python",
   "nbconvert_exporter": "python",
   "pygments_lexer": "ipython3",
   "version": "3.8.5"
  },
  "toc": {
   "base_numbering": 1,
   "nav_menu": {},
   "number_sections": true,
   "sideBar": true,
   "skip_h1_title": false,
   "title_cell": "Table of Contents",
   "title_sidebar": "Contents",
   "toc_cell": false,
   "toc_position": {
    "height": "calc(100% - 180px)",
    "left": "10px",
    "top": "150px",
    "width": "165px"
   },
   "toc_section_display": true,
   "toc_window_display": true
  }
 },
 "nbformat": 4,
 "nbformat_minor": 2
}
