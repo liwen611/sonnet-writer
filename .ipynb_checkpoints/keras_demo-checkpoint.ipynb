{
 "cells": [
  {
   "cell_type": "markdown",
   "metadata": {},
   "source": [
    "This notebook demonstrate the basic syntax of keras with the irish machine learning dataset."
   ]
  },
  {
   "cell_type": "markdown",
   "metadata": {},
   "source": [
    "# Import Data"
   ]
  },
  {
   "cell_type": "code",
   "execution_count": 2,
   "metadata": {},
   "outputs": [],
   "source": [
    "import numpy as np\n",
    "from sklearn.datasets import load_iris"
   ]
  },
  {
   "cell_type": "code",
   "execution_count": 3,
   "metadata": {},
   "outputs": [
    {
     "data": {
      "text/plain": [
       "sklearn.utils.Bunch"
      ]
     },
     "execution_count": 3,
     "metadata": {},
     "output_type": "execute_result"
    }
   ],
   "source": [
    "iris = load_iris()\n",
    "type(iris)"
   ]
  },
  {
   "cell_type": "code",
   "execution_count": 5,
   "metadata": {},
   "outputs": [
    {
     "name": "stdout",
     "output_type": "stream",
     "text": [
      ".. _iris_dataset:\n",
      "\n",
      "Iris plants dataset\n",
      "--------------------\n",
      "\n",
      "**Data Set Characteristics:**\n",
      "\n",
      "    :Number of Instances: 150 (50 in each of three classes)\n",
      "    :Number of Attributes: 4 numeric, predictive attributes and the class\n",
      "    :Attribute Information:\n",
      "        - sepal length in cm\n",
      "        - sepal width in cm\n",
      "        - petal length in cm\n",
      "        - petal width in cm\n",
      "        - class:\n",
      "                - Iris-Setosa\n",
      "                - Iris-Versicolour\n",
      "                - Iris-Virginica\n",
      "                \n",
      "    :Summary Statistics:\n",
      "\n",
      "    ============== ==== ==== ======= ===== ====================\n",
      "                    Min  Max   Mean    SD   Class Correlation\n",
      "    ============== ==== ==== ======= ===== ====================\n",
      "    sepal length:   4.3  7.9   5.84   0.83    0.7826\n",
      "    sepal width:    2.0  4.4   3.05   0.43   -0.4194\n",
      "    petal length:   1.0  6.9   3.76   1.76    0.9490  (high!)\n",
      "    petal width:    0.1  2.5   1.20   0.76    0.9565  (high!)\n",
      "    ============== ==== ==== ======= ===== ====================\n",
      "\n",
      "    :Missing Attribute Values: None\n",
      "    :Class Distribution: 33.3% for each of 3 classes.\n",
      "    :Creator: R.A. Fisher\n",
      "    :Donor: Michael Marshall (MARSHALL%PLU@io.arc.nasa.gov)\n",
      "    :Date: July, 1988\n",
      "\n",
      "The famous Iris database, first used by Sir R.A. Fisher. The dataset is taken\n",
      "from Fisher's paper. Note that it's the same as in R, but not as in the UCI\n",
      "Machine Learning Repository, which has two wrong data points.\n",
      "\n",
      "This is perhaps the best known database to be found in the\n",
      "pattern recognition literature.  Fisher's paper is a classic in the field and\n",
      "is referenced frequently to this day.  (See Duda & Hart, for example.)  The\n",
      "data set contains 3 classes of 50 instances each, where each class refers to a\n",
      "type of iris plant.  One class is linearly separable from the other 2; the\n",
      "latter are NOT linearly separable from each other.\n",
      "\n",
      ".. topic:: References\n",
      "\n",
      "   - Fisher, R.A. \"The use of multiple measurements in taxonomic problems\"\n",
      "     Annual Eugenics, 7, Part II, 179-188 (1936); also in \"Contributions to\n",
      "     Mathematical Statistics\" (John Wiley, NY, 1950).\n",
      "   - Duda, R.O., & Hart, P.E. (1973) Pattern Classification and Scene Analysis.\n",
      "     (Q327.D83) John Wiley & Sons.  ISBN 0-471-22361-1.  See page 218.\n",
      "   - Dasarathy, B.V. (1980) \"Nosing Around the Neighborhood: A New System\n",
      "     Structure and Classification Rule for Recognition in Partially Exposed\n",
      "     Environments\".  IEEE Transactions on Pattern Analysis and Machine\n",
      "     Intelligence, Vol. PAMI-2, No. 1, 67-71.\n",
      "   - Gates, G.W. (1972) \"The Reduced Nearest Neighbor Rule\".  IEEE Transactions\n",
      "     on Information Theory, May 1972, 431-433.\n",
      "   - See also: 1988 MLC Proceedings, 54-64.  Cheeseman et al\"s AUTOCLASS II\n",
      "     conceptual clustering system finds 3 classes in the data.\n",
      "   - Many, many more ...\n"
     ]
    }
   ],
   "source": [
    "print(iris.DESCR)"
   ]
  },
  {
   "cell_type": "code",
   "execution_count": 6,
   "metadata": {},
   "outputs": [],
   "source": [
    "X = iris.data"
   ]
  },
  {
   "cell_type": "code",
   "execution_count": 8,
   "metadata": {},
   "outputs": [
    {
     "data": {
      "text/plain": [
       "numpy.ndarray"
      ]
     },
     "execution_count": 8,
     "metadata": {},
     "output_type": "execute_result"
    }
   ],
   "source": [
    "type(X)"
   ]
  },
  {
   "cell_type": "code",
   "execution_count": 10,
   "metadata": {},
   "outputs": [
    {
     "data": {
      "text/plain": [
       "array([[5.1, 3.5, 1.4, 0.2],\n",
       "       [4.9, 3. , 1.4, 0.2],\n",
       "       [4.7, 3.2, 1.3, 0.2],\n",
       "       [4.6, 3.1, 1.5, 0.2],\n",
       "       [5. , 3.6, 1.4, 0.2],\n",
       "       [5.4, 3.9, 1.7, 0.4],\n",
       "       [4.6, 3.4, 1.4, 0.3],\n",
       "       [5. , 3.4, 1.5, 0.2],\n",
       "       [4.4, 2.9, 1.4, 0.2],\n",
       "       [4.9, 3.1, 1.5, 0.1]])"
      ]
     },
     "execution_count": 10,
     "metadata": {},
     "output_type": "execute_result"
    }
   ],
   "source": [
    "X[:10]"
   ]
  },
  {
   "cell_type": "code",
   "execution_count": 11,
   "metadata": {},
   "outputs": [],
   "source": [
    "y = iris.target"
   ]
  },
  {
   "cell_type": "code",
   "execution_count": 13,
   "metadata": {},
   "outputs": [
    {
     "data": {
      "text/plain": [
       "array([0, 0, 0, 0, 0, 0, 0, 0, 0, 0, 0, 0, 0, 0, 0, 0, 0, 0, 0, 0, 0, 0,\n",
       "       0, 0, 0, 0, 0, 0, 0, 0, 0, 0, 0, 0, 0, 0, 0, 0, 0, 0, 0, 0, 0, 0,\n",
       "       0, 0, 0, 0, 0, 0, 1, 1, 1, 1, 1, 1, 1, 1, 1, 1, 1, 1, 1, 1, 1, 1,\n",
       "       1, 1, 1, 1, 1, 1, 1, 1, 1, 1, 1, 1, 1, 1, 1, 1, 1, 1, 1, 1, 1, 1,\n",
       "       1, 1, 1, 1, 1, 1, 1, 1, 1, 1, 1, 1, 2, 2, 2, 2, 2, 2, 2, 2, 2, 2,\n",
       "       2, 2, 2, 2, 2, 2, 2, 2, 2, 2, 2, 2, 2, 2, 2, 2, 2, 2, 2, 2, 2, 2,\n",
       "       2, 2, 2, 2, 2, 2, 2, 2, 2, 2, 2, 2, 2, 2, 2, 2, 2, 2])"
      ]
     },
     "execution_count": 13,
     "metadata": {},
     "output_type": "execute_result"
    }
   ],
   "source": [
    "# sorted numeric presentation of the classes label\n",
    "y"
   ]
  },
  {
   "cell_type": "markdown",
   "metadata": {},
   "source": [
    "# One hot encoding"
   ]
  },
  {
   "cell_type": "code",
   "execution_count": 14,
   "metadata": {},
   "outputs": [
    {
     "name": "stderr",
     "output_type": "stream",
     "text": [
      "Using TensorFlow backend.\n"
     ]
    }
   ],
   "source": [
    "# one hot encoding \n",
    "# class 0 : [1, 0, 0] class 1: [0, 1, 0] ...\n",
    "from keras.utils import to_categorical"
   ]
  },
  {
   "cell_type": "code",
   "execution_count": 15,
   "metadata": {},
   "outputs": [],
   "source": [
    "y = to_categorical(y)"
   ]
  },
  {
   "cell_type": "code",
   "execution_count": 18,
   "metadata": {},
   "outputs": [
    {
     "data": {
      "text/plain": [
       "array([[1., 0., 0.],\n",
       "       [1., 0., 0.],\n",
       "       [1., 0., 0.],\n",
       "       [1., 0., 0.],\n",
       "       [1., 0., 0.],\n",
       "       [1., 0., 0.],\n",
       "       [1., 0., 0.],\n",
       "       [1., 0., 0.],\n",
       "       [1., 0., 0.],\n",
       "       [1., 0., 0.]], dtype=float32)"
      ]
     },
     "execution_count": 18,
     "metadata": {},
     "output_type": "execute_result"
    }
   ],
   "source": [
    "y[:10]"
   ]
  },
  {
   "cell_type": "code",
   "execution_count": 21,
   "metadata": {},
   "outputs": [
    {
     "data": {
      "text/plain": [
       "(150, 3)"
      ]
     },
     "execution_count": 21,
     "metadata": {},
     "output_type": "execute_result"
    }
   ],
   "source": [
    "y.shape"
   ]
  },
  {
   "cell_type": "markdown",
   "metadata": {},
   "source": [
    "# Train test split "
   ]
  },
  {
   "cell_type": "code",
   "execution_count": 19,
   "metadata": {},
   "outputs": [],
   "source": [
    "from sklearn.model_selection import train_test_split"
   ]
  },
  {
   "cell_type": "code",
   "execution_count": 22,
   "metadata": {},
   "outputs": [],
   "source": [
    "# data would be shuffled for us\n",
    "X_train, X_test, y_train, y_test = train_test_split(X, y, test_size=0.33, random_state=42)"
   ]
  },
  {
   "cell_type": "code",
   "execution_count": 25,
   "metadata": {},
   "outputs": [],
   "source": [
    "# standardize the data, this helps the neural network to not get big bias\n",
    "from sklearn.preprocessing import MinMaxScaler"
   ]
  },
  {
   "cell_type": "code",
   "execution_count": 28,
   "metadata": {},
   "outputs": [
    {
     "data": {
      "text/plain": [
       "MinMaxScaler(copy=True, feature_range=(0, 1))"
      ]
     },
     "execution_count": 28,
     "metadata": {},
     "output_type": "execute_result"
    }
   ],
   "source": [
    "scaler_object = MinMaxScaler()\n",
    "scaler_object.fit(X_train) # only fit the the train data as we don't wanna assume prior knowledge of the test data"
   ]
  },
  {
   "cell_type": "code",
   "execution_count": 48,
   "metadata": {},
   "outputs": [],
   "source": [
    "# note that we transform the train and test seperately\n",
    "scaled_X_train = scaler_object.transform(X_train)\n",
    "scaled_X_test = scaler_object.transform(X_test)"
   ]
  },
  {
   "cell_type": "code",
   "execution_count": 38,
   "metadata": {},
   "outputs": [
    {
     "data": {
      "text/plain": [
       "array([[0.41176471, 0.40909091, 0.55357143, 0.5       ],\n",
       "       [0.97058824, 0.45454545, 0.98214286, 0.83333333],\n",
       "       [0.38235294, 0.45454545, 0.60714286, 0.58333333],\n",
       "       [0.23529412, 0.68181818, 0.05357143, 0.04166667],\n",
       "       [1.        , 0.36363636, 1.        , 0.79166667],\n",
       "       [0.44117647, 0.31818182, 0.53571429, 0.375     ],\n",
       "       [0.26470588, 0.63636364, 0.05357143, 0.04166667],\n",
       "       [0.20588235, 0.68181818, 0.03571429, 0.08333333],\n",
       "       [0.23529412, 0.81818182, 0.14285714, 0.125     ],\n",
       "       [0.20588235, 0.        , 0.42857143, 0.375     ]])"
      ]
     },
     "execution_count": 38,
     "metadata": {},
     "output_type": "execute_result"
    }
   ],
   "source": [
    "scaled_X_train[:10]"
   ]
  },
  {
   "cell_type": "markdown",
   "metadata": {},
   "source": [
    "# Build the NN model"
   ]
  },
  {
   "cell_type": "code",
   "execution_count": 41,
   "metadata": {},
   "outputs": [],
   "source": [
    "from keras.models import Sequential\n",
    "from keras.layers import Dense"
   ]
  },
  {
   "cell_type": "code",
   "execution_count": 43,
   "metadata": {},
   "outputs": [],
   "source": [
    "model = Sequential()\n",
    "# build the model by adding layers of neurons\n",
    "model.add(Dense(8, input_dim = 4, activation = 'relu'))# units argument is the number of neurons, here we use double the amount of features\n",
    "model.add(Dense(8, input_dim = 4, activation = 'relu'))\n",
    "model.add(Dense(3, input_dim = 4, activation = 'softmax')) # this is the output layer\n",
    "model.compile(loss = 'categorical_crossentropy', optimizer = 'adam', metrics = ['accuracy'])"
   ]
  },
  {
   "cell_type": "code",
   "execution_count": 44,
   "metadata": {},
   "outputs": [
    {
     "name": "stdout",
     "output_type": "stream",
     "text": [
      "Model: \"sequential_2\"\n",
      "_________________________________________________________________\n",
      "Layer (type)                 Output Shape              Param #   \n",
      "=================================================================\n",
      "dense_1 (Dense)              (None, 8)                 40        \n",
      "_________________________________________________________________\n",
      "dense_2 (Dense)              (None, 8)                 72        \n",
      "_________________________________________________________________\n",
      "dense_3 (Dense)              (None, 3)                 27        \n",
      "=================================================================\n",
      "Total params: 139\n",
      "Trainable params: 139\n",
      "Non-trainable params: 0\n",
      "_________________________________________________________________\n"
     ]
    }
   ],
   "source": [
    "model.summary()"
   ]
  },
  {
   "cell_type": "code",
   "execution_count": 46,
   "metadata": {},
   "outputs": [
    {
     "name": "stdout",
     "output_type": "stream",
     "text": [
      "Epoch 1/150\n",
      " - 0s - loss: 1.0802 - accuracy: 0.2100\n",
      "Epoch 2/150\n",
      " - 0s - loss: 1.0711 - accuracy: 0.2200\n",
      "Epoch 3/150\n",
      " - 0s - loss: 1.0615 - accuracy: 0.2200\n",
      "Epoch 4/150\n",
      " - 0s - loss: 1.0520 - accuracy: 0.2300\n",
      "Epoch 5/150\n",
      " - 0s - loss: 1.0432 - accuracy: 0.2500\n",
      "Epoch 6/150\n",
      " - 0s - loss: 1.0334 - accuracy: 0.3000\n",
      "Epoch 7/150\n",
      " - 0s - loss: 1.0252 - accuracy: 0.3400\n",
      "Epoch 8/150\n",
      " - 0s - loss: 1.0165 - accuracy: 0.3300\n",
      "Epoch 9/150\n",
      " - 0s - loss: 1.0083 - accuracy: 0.3400\n",
      "Epoch 10/150\n",
      " - 0s - loss: 1.0003 - accuracy: 0.3300\n",
      "Epoch 11/150\n",
      " - 0s - loss: 0.9926 - accuracy: 0.3400\n",
      "Epoch 12/150\n",
      " - 0s - loss: 0.9857 - accuracy: 0.3400\n",
      "Epoch 13/150\n",
      " - 0s - loss: 0.9789 - accuracy: 0.3700\n",
      "Epoch 14/150\n",
      " - 0s - loss: 0.9720 - accuracy: 0.3700\n",
      "Epoch 15/150\n",
      " - 0s - loss: 0.9653 - accuracy: 0.3700\n",
      "Epoch 16/150\n",
      " - 0s - loss: 0.9583 - accuracy: 0.3600\n",
      "Epoch 17/150\n",
      " - 0s - loss: 0.9517 - accuracy: 0.3700\n",
      "Epoch 18/150\n",
      " - 0s - loss: 0.9451 - accuracy: 0.3700\n",
      "Epoch 19/150\n",
      " - 0s - loss: 0.9386 - accuracy: 0.3800\n",
      "Epoch 20/150\n",
      " - 0s - loss: 0.9321 - accuracy: 0.3900\n",
      "Epoch 21/150\n",
      " - 0s - loss: 0.9261 - accuracy: 0.4000\n",
      "Epoch 22/150\n",
      " - 0s - loss: 0.9202 - accuracy: 0.4200\n",
      "Epoch 23/150\n",
      " - 0s - loss: 0.9143 - accuracy: 0.4200\n",
      "Epoch 24/150\n",
      " - 0s - loss: 0.9084 - accuracy: 0.4200\n",
      "Epoch 25/150\n",
      " - 0s - loss: 0.9028 - accuracy: 0.4100\n",
      "Epoch 26/150\n",
      " - 0s - loss: 0.8972 - accuracy: 0.4100\n",
      "Epoch 27/150\n",
      " - 0s - loss: 0.8922 - accuracy: 0.4200\n",
      "Epoch 28/150\n",
      " - 0s - loss: 0.8872 - accuracy: 0.4200\n",
      "Epoch 29/150\n",
      " - 0s - loss: 0.8819 - accuracy: 0.4300\n",
      "Epoch 30/150\n",
      " - 0s - loss: 0.8771 - accuracy: 0.4500\n",
      "Epoch 31/150\n",
      " - 0s - loss: 0.8725 - accuracy: 0.4800\n",
      "Epoch 32/150\n",
      " - 0s - loss: 0.8673 - accuracy: 0.5200\n",
      "Epoch 33/150\n",
      " - 0s - loss: 0.8626 - accuracy: 0.5400\n",
      "Epoch 34/150\n",
      " - 0s - loss: 0.8580 - accuracy: 0.5700\n",
      "Epoch 35/150\n",
      " - 0s - loss: 0.8534 - accuracy: 0.5800\n",
      "Epoch 36/150\n",
      " - 0s - loss: 0.8489 - accuracy: 0.5900\n",
      "Epoch 37/150\n",
      " - 0s - loss: 0.8444 - accuracy: 0.6000\n",
      "Epoch 38/150\n",
      " - 0s - loss: 0.8400 - accuracy: 0.6100\n",
      "Epoch 39/150\n",
      " - 0s - loss: 0.8354 - accuracy: 0.6100\n",
      "Epoch 40/150\n",
      " - 0s - loss: 0.8307 - accuracy: 0.6100\n",
      "Epoch 41/150\n",
      " - 0s - loss: 0.8261 - accuracy: 0.6300\n",
      "Epoch 42/150\n",
      " - 0s - loss: 0.8215 - accuracy: 0.6400\n",
      "Epoch 43/150\n",
      " - 0s - loss: 0.8169 - accuracy: 0.6500\n",
      "Epoch 44/150\n",
      " - 0s - loss: 0.8124 - accuracy: 0.6600\n",
      "Epoch 45/150\n",
      " - 0s - loss: 0.8082 - accuracy: 0.6600\n",
      "Epoch 46/150\n",
      " - 0s - loss: 0.8036 - accuracy: 0.6600\n",
      "Epoch 47/150\n",
      " - 0s - loss: 0.7991 - accuracy: 0.6700\n",
      "Epoch 48/150\n",
      " - 0s - loss: 0.7950 - accuracy: 0.6700\n",
      "Epoch 49/150\n",
      " - 0s - loss: 0.7908 - accuracy: 0.6700\n",
      "Epoch 50/150\n",
      " - 0s - loss: 0.7868 - accuracy: 0.6700\n",
      "Epoch 51/150\n",
      " - 0s - loss: 0.7825 - accuracy: 0.6700\n",
      "Epoch 52/150\n",
      " - 0s - loss: 0.7786 - accuracy: 0.6700\n",
      "Epoch 53/150\n",
      " - 0s - loss: 0.7743 - accuracy: 0.6700\n",
      "Epoch 54/150\n",
      " - 0s - loss: 0.7705 - accuracy: 0.6700\n",
      "Epoch 55/150\n",
      " - 0s - loss: 0.7666 - accuracy: 0.6800\n",
      "Epoch 56/150\n",
      " - 0s - loss: 0.7627 - accuracy: 0.6800\n",
      "Epoch 57/150\n",
      " - 0s - loss: 0.7584 - accuracy: 0.6800\n",
      "Epoch 58/150\n",
      " - 0s - loss: 0.7541 - accuracy: 0.6800\n",
      "Epoch 59/150\n",
      " - 0s - loss: 0.7500 - accuracy: 0.6800\n",
      "Epoch 60/150\n",
      " - 0s - loss: 0.7455 - accuracy: 0.6800\n",
      "Epoch 61/150\n",
      " - 0s - loss: 0.7412 - accuracy: 0.6900\n",
      "Epoch 62/150\n",
      " - 0s - loss: 0.7368 - accuracy: 0.6900\n",
      "Epoch 63/150\n",
      " - 0s - loss: 0.7326 - accuracy: 0.6900\n",
      "Epoch 64/150\n",
      " - 0s - loss: 0.7285 - accuracy: 0.6900\n",
      "Epoch 65/150\n",
      " - 0s - loss: 0.7239 - accuracy: 0.6900\n",
      "Epoch 66/150\n",
      " - 0s - loss: 0.7200 - accuracy: 0.6900\n",
      "Epoch 67/150\n",
      " - 0s - loss: 0.7161 - accuracy: 0.6900\n",
      "Epoch 68/150\n",
      " - 0s - loss: 0.7120 - accuracy: 0.6900\n",
      "Epoch 69/150\n",
      " - 0s - loss: 0.7074 - accuracy: 0.6900\n",
      "Epoch 70/150\n",
      " - 0s - loss: 0.7030 - accuracy: 0.6900\n",
      "Epoch 71/150\n",
      " - 0s - loss: 0.6983 - accuracy: 0.6900\n",
      "Epoch 72/150\n",
      " - 0s - loss: 0.6938 - accuracy: 0.6900\n",
      "Epoch 73/150\n",
      " - 0s - loss: 0.6899 - accuracy: 0.6900\n",
      "Epoch 74/150\n",
      " - 0s - loss: 0.6849 - accuracy: 0.6900\n",
      "Epoch 75/150\n",
      " - 0s - loss: 0.6807 - accuracy: 0.6900\n",
      "Epoch 76/150\n",
      " - 0s - loss: 0.6762 - accuracy: 0.7000\n",
      "Epoch 77/150\n",
      " - 0s - loss: 0.6720 - accuracy: 0.7000\n",
      "Epoch 78/150\n",
      " - 0s - loss: 0.6674 - accuracy: 0.7000\n",
      "Epoch 79/150\n",
      " - 0s - loss: 0.6631 - accuracy: 0.7000\n",
      "Epoch 80/150\n",
      " - 0s - loss: 0.6587 - accuracy: 0.7000\n",
      "Epoch 81/150\n",
      " - 0s - loss: 0.6543 - accuracy: 0.7000\n",
      "Epoch 82/150\n",
      " - 0s - loss: 0.6499 - accuracy: 0.7000\n",
      "Epoch 83/150\n",
      " - 0s - loss: 0.6460 - accuracy: 0.7000\n",
      "Epoch 84/150\n",
      " - 0s - loss: 0.6411 - accuracy: 0.6900\n",
      "Epoch 85/150\n",
      " - 0s - loss: 0.6367 - accuracy: 0.6900\n",
      "Epoch 86/150\n",
      " - 0s - loss: 0.6324 - accuracy: 0.7000\n",
      "Epoch 87/150\n",
      " - 0s - loss: 0.6276 - accuracy: 0.7000\n",
      "Epoch 88/150\n",
      " - 0s - loss: 0.6231 - accuracy: 0.7100\n",
      "Epoch 89/150\n",
      " - 0s - loss: 0.6184 - accuracy: 0.7200\n",
      "Epoch 90/150\n",
      " - 0s - loss: 0.6154 - accuracy: 0.7100\n",
      "Epoch 91/150\n",
      " - 0s - loss: 0.6104 - accuracy: 0.7300\n",
      "Epoch 92/150\n",
      " - 0s - loss: 0.6060 - accuracy: 0.7300\n",
      "Epoch 93/150\n",
      " - 0s - loss: 0.6020 - accuracy: 0.7300\n",
      "Epoch 94/150\n",
      " - 0s - loss: 0.5978 - accuracy: 0.7400\n",
      "Epoch 95/150\n",
      " - 0s - loss: 0.5937 - accuracy: 0.7800\n",
      "Epoch 96/150\n",
      " - 0s - loss: 0.5893 - accuracy: 0.7900\n",
      "Epoch 97/150\n",
      " - 0s - loss: 0.5857 - accuracy: 0.8200\n",
      "Epoch 98/150\n",
      " - 0s - loss: 0.5813 - accuracy: 0.8100\n",
      "Epoch 99/150\n",
      " - 0s - loss: 0.5767 - accuracy: 0.7900\n",
      "Epoch 100/150\n",
      " - 0s - loss: 0.5726 - accuracy: 0.7900\n",
      "Epoch 101/150\n",
      " - 0s - loss: 0.5686 - accuracy: 0.7900\n",
      "Epoch 102/150\n",
      " - 0s - loss: 0.5639 - accuracy: 0.7900\n",
      "Epoch 103/150\n",
      " - 0s - loss: 0.5597 - accuracy: 0.7300\n",
      "Epoch 104/150\n",
      " - 0s - loss: 0.5564 - accuracy: 0.7200\n",
      "Epoch 105/150\n",
      " - 0s - loss: 0.5526 - accuracy: 0.7200\n",
      "Epoch 106/150\n",
      " - 0s - loss: 0.5490 - accuracy: 0.7200\n",
      "Epoch 107/150\n",
      " - 0s - loss: 0.5453 - accuracy: 0.7100\n",
      "Epoch 108/150\n",
      " - 0s - loss: 0.5421 - accuracy: 0.7100\n",
      "Epoch 109/150\n",
      " - 0s - loss: 0.5384 - accuracy: 0.7200\n",
      "Epoch 110/150\n",
      " - 0s - loss: 0.5347 - accuracy: 0.7200\n",
      "Epoch 111/150\n",
      " - 0s - loss: 0.5306 - accuracy: 0.7200\n",
      "Epoch 112/150\n",
      " - 0s - loss: 0.5268 - accuracy: 0.7200\n",
      "Epoch 113/150\n",
      " - 0s - loss: 0.5233 - accuracy: 0.7300\n",
      "Epoch 114/150\n",
      " - 0s - loss: 0.5199 - accuracy: 0.7700\n",
      "Epoch 115/150\n",
      " - 0s - loss: 0.5163 - accuracy: 0.8200\n",
      "Epoch 116/150\n",
      " - 0s - loss: 0.5130 - accuracy: 0.8300\n",
      "Epoch 117/150\n",
      " - 0s - loss: 0.5107 - accuracy: 0.8500\n",
      "Epoch 118/150\n",
      " - 0s - loss: 0.5068 - accuracy: 0.8600\n",
      "Epoch 119/150\n",
      " - 0s - loss: 0.5037 - accuracy: 0.8600\n",
      "Epoch 120/150\n",
      " - 0s - loss: 0.5001 - accuracy: 0.8600\n",
      "Epoch 121/150\n",
      " - 0s - loss: 0.4965 - accuracy: 0.8300\n",
      "Epoch 122/150\n",
      " - 0s - loss: 0.4935 - accuracy: 0.8300\n",
      "Epoch 123/150\n",
      " - 0s - loss: 0.4909 - accuracy: 0.7900\n",
      "Epoch 124/150\n",
      " - 0s - loss: 0.4884 - accuracy: 0.7500\n",
      "Epoch 125/150\n",
      " - 0s - loss: 0.4861 - accuracy: 0.7600\n",
      "Epoch 126/150\n",
      " - 0s - loss: 0.4843 - accuracy: 0.7200\n",
      "Epoch 127/150\n",
      " - 0s - loss: 0.4804 - accuracy: 0.7400\n",
      "Epoch 128/150\n",
      " - 0s - loss: 0.4779 - accuracy: 0.7700\n",
      "Epoch 129/150\n",
      " - 0s - loss: 0.4749 - accuracy: 0.8300\n",
      "Epoch 130/150\n",
      " - 0s - loss: 0.4724 - accuracy: 0.8400\n",
      "Epoch 131/150\n",
      " - 0s - loss: 0.4702 - accuracy: 0.8600\n",
      "Epoch 132/150\n",
      " - 0s - loss: 0.4683 - accuracy: 0.8600\n",
      "Epoch 133/150\n",
      " - 0s - loss: 0.4662 - accuracy: 0.8600\n",
      "Epoch 134/150\n",
      " - 0s - loss: 0.4638 - accuracy: 0.8600\n",
      "Epoch 135/150\n",
      " - 0s - loss: 0.4613 - accuracy: 0.8600\n",
      "Epoch 136/150\n",
      " - 0s - loss: 0.4588 - accuracy: 0.8600\n",
      "Epoch 137/150\n",
      " - 0s - loss: 0.4566 - accuracy: 0.8600\n",
      "Epoch 138/150\n",
      " - 0s - loss: 0.4543 - accuracy: 0.8600\n",
      "Epoch 139/150\n",
      " - 0s - loss: 0.4523 - accuracy: 0.8500\n",
      "Epoch 140/150\n",
      " - 0s - loss: 0.4498 - accuracy: 0.8400\n",
      "Epoch 141/150\n",
      " - 0s - loss: 0.4477 - accuracy: 0.8300\n",
      "Epoch 142/150\n",
      " - 0s - loss: 0.4458 - accuracy: 0.8300\n",
      "Epoch 143/150\n",
      " - 0s - loss: 0.4439 - accuracy: 0.8400\n",
      "Epoch 144/150\n",
      " - 0s - loss: 0.4415 - accuracy: 0.8400\n",
      "Epoch 145/150\n",
      " - 0s - loss: 0.4394 - accuracy: 0.8500\n",
      "Epoch 146/150\n",
      " - 0s - loss: 0.4376 - accuracy: 0.8600\n",
      "Epoch 147/150\n",
      " - 0s - loss: 0.4356 - accuracy: 0.8600\n",
      "Epoch 148/150\n",
      " - 0s - loss: 0.4337 - accuracy: 0.8600\n",
      "Epoch 149/150\n",
      " - 0s - loss: 0.4320 - accuracy: 0.8600\n",
      "Epoch 150/150\n",
      " - 0s - loss: 0.4301 - accuracy: 0.8600\n"
     ]
    },
    {
     "data": {
      "text/plain": [
       "<keras.callbacks.callbacks.History at 0x7f8db1215310>"
      ]
     },
     "execution_count": 46,
     "metadata": {},
     "output_type": "execute_result"
    }
   ],
   "source": [
    "model.fit(scaled_X_train, y_train, epochs = 150, verbose = 2)"
   ]
  },
  {
   "cell_type": "markdown",
   "metadata": {},
   "source": [
    "# Make prediction"
   ]
  },
  {
   "cell_type": "code",
   "execution_count": 57,
   "metadata": {},
   "outputs": [],
   "source": [
    "from sklearn.metrics import confusion_matrix, classification_report, accuracy_score"
   ]
  },
  {
   "cell_type": "code",
   "execution_count": 51,
   "metadata": {},
   "outputs": [
    {
     "data": {
      "text/plain": [
       "array([[1.3214019e-02, 4.7333154e-01, 5.1345444e-01],\n",
       "       [9.3898451e-01, 3.5093971e-02, 2.5921520e-02],\n",
       "       [7.3074167e-05, 2.0044194e-01, 7.9948497e-01],\n",
       "       [1.0923615e-02, 4.7339723e-01, 5.1567912e-01],\n",
       "       [4.5219189e-03, 4.1654962e-01, 5.7892847e-01],\n",
       "       [9.0375853e-01, 5.7981294e-02, 3.8260218e-02],\n",
       "       [5.5273332e-02, 5.3649712e-01, 4.0822956e-01],\n",
       "       [1.0969782e-03, 3.3958495e-01, 6.5931809e-01],\n",
       "       [3.9159041e-03, 4.3894717e-01, 5.5713683e-01],\n",
       "       [2.9399469e-02, 5.2802521e-01, 4.4257531e-01]], dtype=float32)"
      ]
     },
     "execution_count": 51,
     "metadata": {},
     "output_type": "execute_result"
    }
   ],
   "source": [
    "# the predict function returns probabilities\n",
    "model.predict(scaled_X_test)[:10]"
   ]
  },
  {
   "cell_type": "code",
   "execution_count": 52,
   "metadata": {},
   "outputs": [
    {
     "data": {
      "text/plain": [
       "array([2, 0, 2, 2, 2, 0, 1, 2, 2, 1])"
      ]
     },
     "execution_count": 52,
     "metadata": {},
     "output_type": "execute_result"
    }
   ],
   "source": [
    "# predict_classes return the predict classes\n",
    "model.predict_classes(scaled_X_test)[:10]"
   ]
  },
  {
   "cell_type": "code",
   "execution_count": 53,
   "metadata": {},
   "outputs": [],
   "source": [
    "predictions = model.predict_classes(scaled_X_test)"
   ]
  },
  {
   "cell_type": "code",
   "execution_count": 55,
   "metadata": {},
   "outputs": [
    {
     "data": {
      "text/plain": [
       "array([1, 0, 2, 1, 1, 0, 1, 2, 1, 1, 2, 0, 0, 0, 0, 1, 2, 1, 1, 2, 0, 2,\n",
       "       0, 2, 2, 2, 2, 2, 0, 0, 0, 0, 1, 0, 0, 2, 1, 0, 0, 0, 2, 1, 1, 0,\n",
       "       0, 1, 2, 2, 1, 2])"
      ]
     },
     "execution_count": 55,
     "metadata": {},
     "output_type": "execute_result"
    }
   ],
   "source": [
    "# restored the one hot encoding data back to class labels\n",
    "y_test.argmax(axis = 1)"
   ]
  },
  {
   "cell_type": "code",
   "execution_count": 58,
   "metadata": {},
   "outputs": [
    {
     "data": {
      "text/plain": [
       "array([[19,  0,  0],\n",
       "       [ 0,  5, 10],\n",
       "       [ 0,  0, 16]])"
      ]
     },
     "execution_count": 58,
     "metadata": {},
     "output_type": "execute_result"
    }
   ],
   "source": [
    "confusion_matrix(y_test.argmax(axis = 1), predictions)"
   ]
  },
  {
   "cell_type": "code",
   "execution_count": 59,
   "metadata": {},
   "outputs": [
    {
     "name": "stdout",
     "output_type": "stream",
     "text": [
      "              precision    recall  f1-score   support\n",
      "\n",
      "           0       1.00      1.00      1.00        19\n",
      "           1       1.00      0.33      0.50        15\n",
      "           2       0.62      1.00      0.76        16\n",
      "\n",
      "    accuracy                           0.80        50\n",
      "   macro avg       0.87      0.78      0.75        50\n",
      "weighted avg       0.88      0.80      0.77        50\n",
      "\n"
     ]
    }
   ],
   "source": [
    "print(classification_report(y_test.argmax(axis = 1), predictions))"
   ]
  },
  {
   "cell_type": "code",
   "execution_count": 60,
   "metadata": {},
   "outputs": [
    {
     "data": {
      "text/plain": [
       "0.8"
      ]
     },
     "execution_count": 60,
     "metadata": {},
     "output_type": "execute_result"
    }
   ],
   "source": [
    "accuracy_score(y_test.argmax(axis = 1), predictions)"
   ]
  },
  {
   "cell_type": "code",
   "execution_count": 61,
   "metadata": {},
   "outputs": [],
   "source": [
    "model.save('iris_model.h5')"
   ]
  },
  {
   "cell_type": "code",
   "execution_count": 62,
   "metadata": {},
   "outputs": [],
   "source": [
    "from keras.models import load_model\n",
    "new_model = load_model('iris_model.h5')"
   ]
  }
 ],
 "metadata": {
  "kernelspec": {
   "display_name": "Python 3",
   "language": "python",
   "name": "python3"
  },
  "language_info": {
   "codemirror_mode": {
    "name": "ipython",
    "version": 3
   },
   "file_extension": ".py",
   "mimetype": "text/x-python",
   "name": "python",
   "nbconvert_exporter": "python",
   "pygments_lexer": "ipython3",
   "version": "3.7.4"
  },
  "toc": {
   "base_numbering": 1,
   "nav_menu": {},
   "number_sections": true,
   "sideBar": true,
   "skip_h1_title": false,
   "title_cell": "Table of Contents",
   "title_sidebar": "Contents",
   "toc_cell": false,
   "toc_position": {
    "height": "calc(100% - 180px)",
    "left": "10px",
    "top": "150px",
    "width": "188px"
   },
   "toc_section_display": true,
   "toc_window_display": true
  }
 },
 "nbformat": 4,
 "nbformat_minor": 2
}
